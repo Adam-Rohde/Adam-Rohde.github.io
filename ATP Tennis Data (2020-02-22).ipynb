{
 "cells": [
  {
   "cell_type": "markdown",
   "metadata": {},
   "source": [
    "### ATP Tennis Data\n",
    "\n",
    "Database Compiled by Jeff Sackmann / Tennis Abstract: [Jeff Sackmann GitHub](https://github.com/JeffSackmann/tennis_atp) | [Tennis Abstract](http://www.tennisabstract.com/)\n",
    "\n",
    "We'll explore ATP match level data from 1991 to 2020. \n",
    "\n",
    "Some of the questions we'll look into include:\n",
    "\n",
    "* What is the effect of age on performance and has this changed over time? (Interpertable Models)\n",
    "\n",
    "* What are the most important features for identifying variation in performance? (PCA)\n",
    "\n",
    "* How well does previous season's preformance determine current season preformance? \n",
    "\n",
    "* Do players have \"hot\" streaks where winning begets more winning? \n",
    "\n",
    "* Is there more variance in the results for best-of-three versus best-of-five set matches? (Does the higher ranked player or player who has done better in head-to-head win more frequently?)\n",
    "\n",
    "* How important are first serve percentage, break points saved/won, number of aces, average serve speed, ... effect performance? \n",
    "\n",
    "* Are big servers better? (Not controlling for other factors; does a big serve usually come at the cost of other elements that make players more successful)\n",
    "\n",
    "* Do lefties perfrom better against righties or other lefties?\n",
    "\n",
    "We'll also try to build a model for predictinig match winner. (Using DL, SVM, and/or XGBoost.)"
   ]
  },
  {
   "cell_type": "markdown",
   "metadata": {},
   "source": [
    "---\n",
    "#### Preliminaries and Read Data\n",
    "We import the relevant packages and read the data."
   ]
  },
  {
   "cell_type": "code",
   "execution_count": 3,
   "metadata": {},
   "outputs": [],
   "source": [
    "import pandas as pd\n",
    "import numpy as np\n",
    "import matplotlib.pyplot as plt\n",
    "import glob2\n",
    "import datetime, sys"
   ]
  },
  {
   "cell_type": "code",
   "execution_count": 42,
   "metadata": {},
   "outputs": [
    {
     "name": "stdout",
     "output_type": "stream",
     "text": [
      "..\\data\\atp_rankings_00s.csv\n",
      "..\\data\\atp_rankings_10s.csv\n",
      "..\\data\\atp_rankings_70s.csv\n",
      "..\\data\\atp_rankings_80s.csv\n",
      "..\\data\\atp_rankings_90s.csv\n",
      "..\\data\\atp_rankings_current.csv\n",
      "(2851265, 4)\n"
     ]
    }
   ],
   "source": [
    "def readAllFiles(directory,prefix,ext):\n",
    "    '''\n",
    "    This function reads and appends all files in a directory with similar file names. \n",
    "    Required inputs: \n",
    "        directory (\"directory\")\n",
    "        file name prefix (\"prefix\")\n",
    "        file extension (\"ext\")\n",
    "    '''\n",
    "    AllFiles = glob2.glob(directory + \"/\" + prefix + \"*\" + ext)\n",
    "    df = pd.DataFrame()\n",
    "    list_ = list()\n",
    "    for file in AllFiles:\n",
    "        print(file)\n",
    "        temp_df = pd.read_csv(file,index_col=None,header=None)\n",
    "        list_.append(temp_df)\n",
    "    df = pd.concat(list_,sort=False)\n",
    "    return df\n",
    "\n",
    "#read all rank data\n",
    "ranks = readAllFiles(\"..\\\\data\\\\\",\"atp_rankings_\",\".csv\")\n",
    "print(ranks.shape)"
   ]
  },
  {
   "cell_type": "code",
   "execution_count": 47,
   "metadata": {},
   "outputs": [
    {
     "data": {
      "text/html": [
       "<div>\n",
       "<style scoped>\n",
       "    .dataframe tbody tr th:only-of-type {\n",
       "        vertical-align: middle;\n",
       "    }\n",
       "\n",
       "    .dataframe tbody tr th {\n",
       "        vertical-align: top;\n",
       "    }\n",
       "\n",
       "    .dataframe thead th {\n",
       "        text-align: right;\n",
       "    }\n",
       "</style>\n",
       "<table border=\"1\" class=\"dataframe\">\n",
       "  <thead>\n",
       "    <tr style=\"text-align: right;\">\n",
       "      <th></th>\n",
       "      <th>ranking_date</th>\n",
       "      <th>rank</th>\n",
       "      <th>player</th>\n",
       "      <th>points</th>\n",
       "    </tr>\n",
       "  </thead>\n",
       "  <tbody>\n",
       "    <tr>\n",
       "      <td>1</td>\n",
       "      <td>20000110</td>\n",
       "      <td>1</td>\n",
       "      <td>101736</td>\n",
       "      <td>4135</td>\n",
       "    </tr>\n",
       "    <tr>\n",
       "      <td>2</td>\n",
       "      <td>20000110</td>\n",
       "      <td>2</td>\n",
       "      <td>102338</td>\n",
       "      <td>2915</td>\n",
       "    </tr>\n",
       "    <tr>\n",
       "      <td>3</td>\n",
       "      <td>20000110</td>\n",
       "      <td>3</td>\n",
       "      <td>101948</td>\n",
       "      <td>2419</td>\n",
       "    </tr>\n",
       "    <tr>\n",
       "      <td>4</td>\n",
       "      <td>20000110</td>\n",
       "      <td>4</td>\n",
       "      <td>103017</td>\n",
       "      <td>2184</td>\n",
       "    </tr>\n",
       "    <tr>\n",
       "      <td>5</td>\n",
       "      <td>20000110</td>\n",
       "      <td>5</td>\n",
       "      <td>102856</td>\n",
       "      <td>2169</td>\n",
       "    </tr>\n",
       "  </tbody>\n",
       "</table>\n",
       "</div>"
      ],
      "text/plain": [
       "  ranking_date rank  player points\n",
       "1     20000110    1  101736   4135\n",
       "2     20000110    2  102338   2915\n",
       "3     20000110    3  101948   2419\n",
       "4     20000110    4  103017   2184\n",
       "5     20000110    5  102856   2169"
      ]
     },
     "execution_count": 47,
     "metadata": {},
     "output_type": "execute_result"
    }
   ],
   "source": [
    "#clean up rank data\n",
    "ranks.rename(columns = {0:'ranking_date',1:'rank',2:'player',3:'points'}, inplace = True)\n",
    "ranks = ranks[ ranks['rank'] != \"rank\" ]\n",
    "\n",
    "ranks.head()"
   ]
  }
 ],
 "metadata": {
  "kernelspec": {
   "display_name": "Python 3",
   "language": "python",
   "name": "python3"
  },
  "language_info": {
   "codemirror_mode": {
    "name": "ipython",
    "version": 3
   },
   "file_extension": ".py",
   "mimetype": "text/x-python",
   "name": "python",
   "nbconvert_exporter": "python",
   "pygments_lexer": "ipython3",
   "version": "3.7.4"
  }
 },
 "nbformat": 4,
 "nbformat_minor": 2
}
